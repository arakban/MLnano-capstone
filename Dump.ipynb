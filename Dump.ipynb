{
 "cells": [
  {
   "cell_type": "code",
   "execution_count": null,
   "metadata": {
    "collapsed": true
   },
   "outputs": [],
   "source": [
    "#T stands for transformed\n",
    "sampleT = pd.DataFrame()\n",
    "\n",
    "sampleT[\"V1\"] = sample.V1.map(lambda x: 1 if x < -3 else 0)\n",
    "sampleT[\"V2\"] = sample.V2.map(lambda x: 1 if x > 3 else 0)\n",
    "sampleT[\"V3\"] = sample.V3.map(lambda x: 1 if x < -3.5 else 0)\n",
    "sampleT[\"V4\"] = sample.V4.map(lambda x: 1 if x > 2 else 0)\n",
    "sampleT[\"V5\"] = sample.V5.map(lambda x: 1 if x < -4 else 0)\n",
    "sampleT[\"V6\"] = sample.V6.map(lambda x: 1 if x < -2.5 else 0)\n",
    "sampleT[\"V7\"] = sample.V7.map(lambda x: 1 if x < -3 else 0)\n",
    "sample[\"V9\"] = sample.V9.map(lambda x: 1 if x < -2 else 0)\n",
    "sampleT[\"V10\"] = sample.V10.map(lambda x: 1 if x < -2.5 else 0)\n",
    "sampleT[\"V11\"] = sample.V11.map(lambda x: 1 if x > 2 else 0)\n",
    "sampleT[\"V12\"] = sample.V12.map(lambda x: 1 if x < -2 else 0)\n",
    "sampleT[\"V14\"] = sample.V14.map(lambda x: 1 if x < -2.5 else 0)\n",
    "sampleT[\"V16\"] = sample.V16.map(lambda x: 1 if x < --2.5 else 0)\n",
    "sampleT[\"V17\"] = sample.V17.map(lambda x: 1 if x < -1.5 else 0)\n",
    "sampleT[\"V18\"] = sample.V18.map(lambda x: 1 if x < -2 else 0)\n",
    "sampleT[\"V19\"] = sample.V19.map(lambda x: 1 if x > 0.5 else 0)\n",
    "sampleT[\"Amount\"] = sample.Amount\n",
    "sampleT[\"Class\"] = sample.Class\n",
    "\n",
    "#time is not added as we saw it not be relevant before\n",
    "\n",
    "sampleT.head(10)"
   ]
  },
  {
   "cell_type": "markdown",
   "metadata": {},
   "source": [
    "Lets use the data exploration above to binaries the data. We going to identify values where \n",
    "fraudulent transaction are more common, and set threshold for each feature. These values will the based on the means computed above and the distributions plotted before."
   ]
  },
  {
   "cell_type": "code",
   "execution_count": null,
   "metadata": {
    "collapsed": true
   },
   "outputs": [],
   "source": [
    "    classes = sample.head()\n",
    "\n",
    "    plt.imshow(cm, interpolation='nearest', cmap=cmap)\n",
    "    plt.title(title)\n",
    "    plt.colorbar()\n",
    "    tick_marks = np.arange(len(classes))\n",
    "    plt.xticks(tick_marks, classes, rotation=45)\n",
    "    plt.yticks(tick_marks, classes)\n",
    "\n",
    "    fmt = '.2f' if normalize else 'd'\n",
    "    thresh = cm.max() / 2.\n",
    "    for i, j in itertools.product(range(cm.shape[0]), range(cm.shape[1])):\n",
    "        plt.text(j, i, format(cm[i, j], fmt),\n",
    "                 horizontalalignment=\"center\",\n",
    "                 color=\"white\" if cm[i, j] > thresh else \"black\")\n",
    "\n",
    "    plt.tight_layout()\n",
    "    plt.ylabel('True label')\n",
    "    plt.xlabel('Predicted label')\n",
    "\n",
    "# Compute confusion matrix\n",
    "cnf_matrix = confusion_matrix(y_test, y_pred)\n",
    "np.set_printoptions(precision=2)\n",
    "\n",
    "# Plot non-normalized confusion matrix\n",
    "plt.figure()\n",
    "plot_confusion_matrix(cnf_matrix, classes=class_names,\n",
    "                      title='Confusion matrix, without normalization')\n",
    "\n",
    "# Plot normalized confusion matrix\n",
    "plt.figure()\n",
    "plot_confusion_matrix(cnf_matrix, classes=class_names, normalize=True,\n",
    "                      title='Normalized confusion matrix')\n",
    "\n",
    "plt.show()"
   ]
  },
  {
   "cell_type": "code",
   "execution_count": 10,
   "metadata": {},
   "outputs": [
    {
     "name": "stdout",
     "output_type": "stream",
     "text": [
      "1.0\n",
      "2.0\n",
      "3.0\n",
      "nan\n"
     ]
    }
   ],
   "source": [
    "import pandas as pd\n",
    "\n",
    "d = {'one' : pd.Series([1., 2., 3.], index=['a', 'b', 'c']),\n",
    "     'two' : pd.Series([1., 2., 3., 4.], index=['a', 'b', 'c', 'd'])}\n",
    "\n",
    "df = pd.DataFrame(d)\n",
    "\n",
    "for i, row in df.iterrows():\n",
    "    print(df.get_value(i, 'one'))"
   ]
  },
  {
   "cell_type": "code",
   "execution_count": null,
   "metadata": {
    "collapsed": true
   },
   "outputs": [],
   "source": []
  }
 ],
 "metadata": {
  "kernelspec": {
   "display_name": "Python 2",
   "language": "python",
   "name": "python2"
  },
  "language_info": {
   "codemirror_mode": {
    "name": "ipython",
    "version": 2
   },
   "file_extension": ".py",
   "mimetype": "text/x-python",
   "name": "python",
   "nbconvert_exporter": "python",
   "pygments_lexer": "ipython2",
   "version": "2.7.13"
  }
 },
 "nbformat": 4,
 "nbformat_minor": 2
}
